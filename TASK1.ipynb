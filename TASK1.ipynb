{
  "nbformat": 4,
  "nbformat_minor": 0,
  "metadata": {
    "colab": {
      "provenance": [],
      "collapsed_sections": [],
      "authorship_tag": "ABX9TyP9Yhx1vvuX6ua2aodaD4qO",
      "include_colab_link": true
    },
    "kernelspec": {
      "name": "python3",
      "display_name": "Python 3"
    },
    "language_info": {
      "name": "python"
    }
  },
  "cells": [
    {
      "cell_type": "markdown",
      "metadata": {
        "id": "view-in-github",
        "colab_type": "text"
      },
      "source": [
        "<a href=\"https://colab.research.google.com/github/pavanteja41/tasks-for-data-science/blob/TASK1/TASK1.ipynb\" target=\"_parent\"><img src=\"https://colab.research.google.com/assets/colab-badge.svg\" alt=\"Open In Colab\"/></a>"
      ]
    },
    {
      "cell_type": "code",
      "execution_count": 10,
      "metadata": {
        "colab": {
          "base_uri": "https://localhost:8080/"
        },
        "id": "lZIik9mGSau_",
        "outputId": "19928da0-f894-4c0b-cad2-e9f89460db48"
      },
      "outputs": [
        {
          "name": "stdout",
          "output_type": "stream",
          "text": [
            "Please Enter your usernmaePavan@.in\n",
            "Enter your password(must have an upper case letter,lower case letter, one digit and minimum one special character)pavan@T3\n"
          ]
        }
      ],
      "source": [
        "import re\n",
        "import csv\n",
        "def func_username(inp):\n",
        "  pat = \"^[a-zA-Z0-9-_]+@[.][a-z]{1,3}$\"\n",
        "  if re.match(pat,inp):\n",
        "    return True\n",
        "  else:\n",
        "    return False\n",
        "def func_password(pas):\n",
        "  k=0\n",
        "  pasc=\"^[a-zA-Z0-9-_]{5,16}$\"\n",
        "  if re.match(pas,pasc):\n",
        "    for x in pas:\n",
        "      if ((x=='@' or x=='#') or (x=='&' or x=='*') or (x=='^')):\n",
        "        k=k+1\n",
        "    if (k==0):\n",
        "      return True\n",
        "  else:\n",
        "    return False\n",
        "inp=input(\"Please Enter your usernmae\")\n",
        "if func_username(inp):\n",
        "  pas=input('Enter your password(must have an upper case letter,lower case letter, one digit and minimum one special character)')\n",
        "  if (func_password(pas)):\n",
        "    file=open('geek.csv','w')\n",
        "    fields=[\"username\",\"password\"]\n",
        "    rows=[[]]\n",
        "    rows.append(inp,pas)\n",
        "    with open('geek.csv', 'w') as csvfile:\n",
        "    # creating a csv writer object\n",
        "    csvwriter = csv.writer(csvfile)\n",
        "     \n",
        "    # writing the fields\n",
        "    csvwriter.writerow(fields)\n",
        "     \n",
        "    # writing the data rows\n",
        "    csvwriter.writerows(rows)\n",
        "elif (func_username(inp) and (func_password)):\n",
        "  file=open('geek.csv','r')\n",
        "  csvreader=csv.reader(csvfile)\n",
        "  for x in csvreader:\n",
        "    if(x=='inp' and x=='pas'):\n",
        "      print(\"welcome user\")\n",
        "else:\n",
        "  print(\"Please enter correct username or register if you are new\")\n"
      ]
    }
  ]
}